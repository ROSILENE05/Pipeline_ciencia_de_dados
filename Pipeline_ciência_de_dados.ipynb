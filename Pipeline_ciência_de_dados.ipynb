{
  "nbformat": 4,
  "nbformat_minor": 0,
  "metadata": {
    "colab": {
      "provenance": [],
      "toc_visible": true,
      "authorship_tag": "ABX9TyOYfHgZHeyzo/nOubapNRlb",
      "include_colab_link": true
    },
    "kernelspec": {
      "name": "python3",
      "display_name": "Python 3"
    },
    "language_info": {
      "name": "python"
    }
  },
  "cells": [
    {
      "cell_type": "markdown",
      "metadata": {
        "id": "view-in-github",
        "colab_type": "text"
      },
      "source": [
        "<a href=\"https://colab.research.google.com/github/ROSILENE05/Pipeline_ciencia_de_dados/blob/main/Pipeline_ci%C3%AAncia_de_dados.ipynb\" target=\"_parent\"><img src=\"https://colab.research.google.com/assets/colab-badge.svg\" alt=\"Open In Colab\"/></a>"
      ]
    },
    {
      "cell_type": "markdown",
      "source": [
        "# **Pipeline em Ciência de dados**\n",
        "\n",
        "1 - Planejamento;\n",
        "2 - Preparção dos dados;\n",
        "3 - Modelagem;\n",
        "4 - Acompanhamento."
      ],
      "metadata": {
        "id": "nEvN4qoN_vQ9"
      }
    },
    {
      "cell_type": "markdown",
      "source": [
        "# **1 - Planejamento**\n",
        "\n",
        "**   **Definir os objetivos do negócio;**\n",
        "\n",
        "*   Como pode ser entregue um produto melhor?\n",
        "*   Em que somos melhores?\n",
        "*   O que aconteceria se saíssemos do mercado?\n",
        "\n",
        "** **Verificar**\n",
        "\n",
        "\n",
        "*   O lado técnico dos dados;\n",
        "*   Coleta dos dados;\n",
        "*   Governança dos dados;\n",
        "\n",
        "** **Ferramentas**\n",
        "\n",
        "\n",
        "*  Equipe escolhe (Brainstorming).\n",
        "\n",
        "** **Organizar os recursos.**\n",
        "\n",
        "** **Coordenar os colaboradores.**\n",
        "\n",
        "** **Fazer a programação do projeto**\n",
        "\n",
        "\n",
        "\n",
        "\n",
        "\n",
        "\n",
        "\n",
        "\n",
        "\n",
        "\n",
        "\n"
      ],
      "metadata": {
        "id": "ySgUyjg5AMbW"
      }
    },
    {
      "cell_type": "markdown",
      "source": [
        "# **2 - Preparação dos dados**\n",
        "\n",
        "\n",
        "\n",
        "*  Reunir os dados usando as ferramentas adequadas;\n",
        "*  Limpar os dados (descarte);\n",
        "\n",
        "\n",
        "*   Explorar os dados, usando o conhecimento do negócio\n",
        "*   Refinar os dados, escolhendo as variáveis.\n",
        "\n",
        "\n"
      ],
      "metadata": {
        "id": "74eWVyKvAMcZ"
      }
    },
    {
      "cell_type": "markdown",
      "source": [
        "# **3 - Modelagem**\n",
        "\n",
        "\n",
        "\n",
        "*  Criar modelo (schema ou snowflake);\n",
        "\n",
        "*   Validar o modelo;\n",
        "*   Avaliar o modelo;\n",
        "\n",
        "\n",
        "*  Refinar o modelo.\n",
        "\n"
      ],
      "metadata": {
        "id": "kXpFuiUgF_R1"
      }
    },
    {
      "cell_type": "markdown",
      "source": [],
      "metadata": {
        "id": "3WotozpkHgEv"
      }
    },
    {
      "cell_type": "markdown",
      "source": [
        "# **4 - Acompanhamento**\n",
        "\n",
        "\n",
        "\n",
        "*   Apresentar o modelo;\n",
        "*   Item de listaImplementar o modelo;\n",
        "-verificar se coloca no servidor;\n",
        "-verificar se é modelo descritivo ou preditivo;\n",
        "-Arquivar os ativos(backup 3 2 1).\n",
        "\n",
        "\n"
      ],
      "metadata": {
        "id": "JebZP0S8HgGP"
      }
    },
    {
      "cell_type": "markdown",
      "source": [
        "# **Skill's necessárias para o profissional de ciência de dados**\n",
        "\n",
        "1 - Banco de dados (relacional e Nosql);\n",
        "\n",
        "2 - Linguagem R, Python, SQL, excel...;\n",
        "\n",
        "3 - Conhecimento em estatística;\n",
        "\n",
        "4 - Visualização e storytteling;\n",
        "\n",
        "5 - Negócio;\n",
        "\n",
        "6 - Ser ético (conhecimento em privacidade);\n",
        "\n",
        "7 - Conhecer sobre metas e métricas;\n",
        "\n",
        "8 - Indicadores de desempenho KPI´s e SMART;\n",
        "\n"
      ],
      "metadata": {
        "id": "jejjAshIIPWQ"
      }
    }
  ]
}